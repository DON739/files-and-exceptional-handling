{
  "nbformat": 4,
  "nbformat_minor": 0,
  "metadata": {
    "colab": {
      "provenance": []
    },
    "kernelspec": {
      "name": "python3",
      "display_name": "Python 3"
    },
    "language_info": {
      "name": "python"
    }
  },
  "cells": [
    {
      "cell_type": "markdown",
      "source": [
        "# theory question"
      ],
      "metadata": {
        "id": "WRTOau5mE0pZ"
      }
    },
    {
      "cell_type": "markdown",
      "source": [
        "1. What is the difference between interpreted and compiled languages?\n",
        "- An interpreted language runs the code line by line using an interpreter. It translates and runs each line immediately. Examples: Python, JavaScript.\n",
        " - Reads and runs one line at a time. Slower but easier to test and debug.\n",
        "\n",
        "- A compiled language converts the whole code into machine language (binary) at once before running. This is done using a compiler. After that, the program runs directly. Examples: C, C++.\n",
        " - Translates everything first, then runs. Faster but takes time to compile.\n",
        "\n",
        "---\n"
      ],
      "metadata": {
        "id": "Mz9VpuNLE6_2"
      }
    },
    {
      "cell_type": "markdown",
      "source": [
        "2.What is exception handling in Python?\n",
        "- Exception handling in Python is a way to deal with errors without crashing the program.\n",
        "\n",
        "- Sometimes, something goes wrong while the code is running—like dividing by zero or trying to open a file that doesn’t exist. Instead of stopping the whole program, Python lets me catch and handle that error using try and except.\n",
        "\n",
        "\n",
        "---"
      ],
      "metadata": {
        "id": "yVwYWW1BGVMB"
      }
    },
    {
      "cell_type": "markdown",
      "source": [
        "3.What is the purpose of the finally block in exception handling?\n",
        "- The finally block is used to write code that should run no matter what—whether there was an error or not. I use it when I want to make sure something always happens, like closing a file or releasing resources. It runs after the try and except blocks, no matter what.\n",
        "\n",
        "\n",
        "---"
      ],
      "metadata": {
        "id": "9XXACmz3HSIe"
      }
    },
    {
      "cell_type": "markdown",
      "source": [
        "4.What is logging in Python?\n",
        "- Logging in Python is how I keep track of what my program is doing while it runs. Instead of just printing messages, I use logging to record information like errors, warnings, or normal activity. This helps me understand what happened if something goes wrong, especially when the program gets bigger or runs for a long time.\n",
        "\n",
        "\n",
        "---"
      ],
      "metadata": {
        "id": "8rUV2QiHHoXf"
      }
    },
    {
      "cell_type": "markdown",
      "source": [
        "5.What is the significance of the __del__ method in Python?\n",
        "- The __del__ method in Python is called automatically when an object is about to be destroyed. I use it if I want to clean up things like closing files or releasing resources before the object is deleted from memory. It’s like a goodbye function for the object.\n",
        "\n",
        "---\n"
      ],
      "metadata": {
        "id": "DW6LzBE0IBzn"
      }
    },
    {
      "cell_type": "markdown",
      "source": [
        "6.What is the difference between import and from ... import in Python?\n",
        "- The import` statement brings in the whole module, so I have to use the module name every time I call something from it.\n",
        "\n",
        "- The from  import statement lets me bring in specific parts of a module, so I can use them directly without writing the module name each time.\n",
        "\n",
        "---"
      ],
      "metadata": {
        "id": "LfD9Y7CpIRct"
      }
    },
    {
      "cell_type": "markdown",
      "source": [
        "7.How can you handle multiple exceptions in Python?\n",
        "- I can handle multiple exceptions in Python by using multiple except blocks, each one for a different type of error. I can also handle several exceptions in a single block by putting them in a tuple. This way, I can respond differently depending on what kind of error happens.\n",
        "\n",
        "---\n"
      ],
      "metadata": {
        "id": "lquvb-YuIl_m"
      }
    },
    {
      "cell_type": "markdown",
      "source": [
        "8.What is the purpose of the with statement when handling files in Python?\n",
        "- The with statement is used when I work with files to make sure the file gets closed automatically after I'm done with it. I don't have to remember to close it myself, even if there’s an error. It makes file handling cleaner and safer.\n",
        "\n",
        "\n",
        "---"
      ],
      "metadata": {
        "id": "ilkDmRKRI1au"
      }
    },
    {
      "cell_type": "markdown",
      "source": [
        "9.What is the difference between multithreading and multiprocessing?\n",
        "- Multithreading means running multiple threads (smaller tasks) inside the same program at the same time, sharing the same memory. It’s good for tasks that wait a lot, like downloading files.\n",
        "\n",
        "- Multiprocessing means running multiple separate processes, each with its own memory. It’s better for heavy tasks that need a lot of CPU power because each process runs independently.\n",
        "\n",
        "- So, multithreading shares memory but can be limited by Python’s Global Interpreter Lock, while multiprocessing runs truly in parallel but uses more resources.\n",
        "\n",
        "\n",
        "---"
      ],
      "metadata": {
        "id": "kBq1S-ChJBMH"
      }
    },
    {
      "cell_type": "markdown",
      "source": [
        "10.What are the advantages of using logging in a program?\n",
        "- Using logging in a program helps me keep a detailed record of what the program does. It makes it easier to find and fix problems, especially when the program is big or running for a long time. Logging also helps me understand the program’s behavior over time and keeps important information without cluttering the screen.\n",
        "\n",
        "\n",
        "---"
      ],
      "metadata": {
        "id": "Ky_qptPJJSB9"
      }
    },
    {
      "cell_type": "markdown",
      "source": [
        "11.What is memory management in Python?\n",
        "- Memory management in Python is how Python takes care of using and freeing up memory while my program runs. It automatically allocates memory when I create objects and cleans up memory when those objects are no longer needed. This helps prevent memory leaks and makes sure my program uses resources efficiently without me having to manage it all manually.\n",
        "\n",
        "---"
      ],
      "metadata": {
        "id": "zDWkDyoAJeW-"
      }
    },
    {
      "cell_type": "markdown",
      "source": [
        "12.What are the basic steps involved in exception handling in Python?\n",
        "- The basic steps in exception handling for me are:\n",
        "\n",
        "1. I write the code that might cause an error inside a try block.\n",
        "2. I use one or more except blocks to catch and handle specific errors if they happen.\n",
        "3. Optionally, I use a finally block to run code that should always execute, no matter what.\n",
        "\n",
        "---\n",
        "\n"
      ],
      "metadata": {
        "id": "Kb7KwYsAJrkP"
      }
    },
    {
      "cell_type": "markdown",
      "source": [
        "13.Why is memory management important in Python?\n",
        "- Memory management is important in Python because it helps my program run efficiently without using too much memory. If memory isn’t managed well, the program can slow down or crash. Python automatically manages memory to make sure it frees up space when objects are no longer needed, so I don’t have to worry about it and my program stays stable.\n",
        "\n",
        "---\n"
      ],
      "metadata": {
        "id": "VppGLiusHlBg"
      }
    },
    {
      "cell_type": "markdown",
      "source": [
        "14.What is the role of try and except in exception handling?\n",
        "- The role of try is to hold the code that might cause an error. The role of except is to catch and handle those errors if they happen, so the program doesn’t crash and can keep running smoothly.\n",
        "\n",
        "---"
      ],
      "metadata": {
        "id": "fuXG1_gvKgL6"
      }
    },
    {
      "cell_type": "markdown",
      "source": [
        "15.How does Python's garbage collection system work?\n",
        "- Python’s garbage collection automatically cleans up memory by finding and removing objects that are no longer being used in the program. It tracks how many references point to an object, and when there are none left, it frees that memory. It also handles complex cases like circular references to keep memory usage efficient without me having to do it manually.\n",
        "\n",
        "---"
      ],
      "metadata": {
        "id": "A0x8stunKwF9"
      }
    },
    {
      "cell_type": "markdown",
      "source": [
        "16.What is the purpose of the else block in exception handling?\n",
        "- The else block runs only if there was no error in the try block. I use it to write code that should happen when everything goes smoothly, separate from the error-handling part.\n",
        "\n",
        "\n",
        "---"
      ],
      "metadata": {
        "id": "_bxGFIOuK8nN"
      }
    },
    {
      "cell_type": "markdown",
      "source": [
        "17.What are the common logging levels in Python?\n",
        "- The common logging levels in Python help me decide how important a message is. They are:\n",
        "\n",
        "* DEBUG: For detailed information, useful when I’m trying to fix problems.\n",
        "* INFO: For general messages about what the program is doing.\n",
        "* WARNING: To alert me about something that might cause problems later.\n",
        "* ERROR: When something goes wrong that stops part of the program from working.\n",
        "* CRITICAL: For very serious errors that might crash the whole program.\n",
        "\n",
        "---\n"
      ],
      "metadata": {
        "id": "337717LGLO7Y"
      }
    },
    {
      "cell_type": "markdown",
      "source": [
        "18.What is the difference between os.fork() and multiprocessing in Python?\n",
        "- os.fork() creates a new child process by copying the current process. It’s low-level and works mostly on Unix systems. It gives me two processes running the same code from that point.\n",
        "\n",
        "- multiprocessing is a higher-level module that helps me create and manage multiple processes easily, with tools to share data and handle tasks across processes. It works on different platforms and is more user-friendly than os.fork().\n",
        "\n",
        "---"
      ],
      "metadata": {
        "id": "I3o2W_lULkiR"
      }
    },
    {
      "cell_type": "markdown",
      "source": [
        "19.What is the importance of closing a file in Python?\n",
        "- Closing a file in Python is important because it frees up system resources and makes sure all the data is properly saved. If I don’t close a file, it can cause problems like data loss or running out of resources, especially if my program opens many files. Closing keeps everything clean and efficient.\n",
        "\n",
        "---"
      ],
      "metadata": {
        "id": "F6NGvfhdL6bC"
      }
    },
    {
      "cell_type": "markdown",
      "source": [
        "20.What is the difference between file.read() and file.readline() in Python?\n",
        "- file.read() reads the whole content of the file at once, giving me everything inside in one go.\n",
        "\n",
        "- file.readline() reads the file one line at a time, so I get just a single line each time I use it. It’s useful when I want to process a file line by line.\n",
        "\n",
        "---"
      ],
      "metadata": {
        "id": "oSIXhGtOMKsg"
      }
    },
    {
      "cell_type": "markdown",
      "source": [
        "21.What is the logging module in Python used for?\n",
        "- The logging module in Python is used for keeping track of what my program does while it runs. It helps me record important events, errors, and messages in a file or console, so I can understand what happened later, especially when debugging or monitoring the program.\n",
        "\n",
        "---"
      ],
      "metadata": {
        "id": "TbqpDiH7MljF"
      }
    },
    {
      "cell_type": "markdown",
      "source": [
        "22.What is the os module in Python used for in file handling?\n",
        "- The os module in Python helps me work with files and folders outside of just reading and writing. It lets me do things like create, delete, rename, or move files and directories. It also helps me check if a file exists or get information about files. Basically, it gives me more control over managing files on my computer.\n",
        "\n",
        "---"
      ],
      "metadata": {
        "id": "zn8zMNurMy6i"
      }
    },
    {
      "cell_type": "markdown",
      "source": [
        "23.What are the challenges associated with memory management in Python?\n",
        "- The challenges with memory management in Python for me are things like:\n",
        "\n",
        "* Making sure unused objects get cleaned up properly to avoid wasting memory.\n",
        "* Handling circular references where objects refer to each other, which can confuse automatic cleanup.\n",
        "* Managing memory efficiently when the program uses a lot of data or runs for a long time.\n",
        "\n",
        "---\n",
        "\n"
      ],
      "metadata": {
        "id": "w3telISIM92P"
      }
    },
    {
      "cell_type": "markdown",
      "source": [
        "24.How do you raise an exception manually in Python?\n",
        "- I can raise an exception manually in Python when I want to signal that something went wrong on purpose. It’s like telling the program, “Stop here and handle this error,” usually because a condition I expect isn’t met. This helps me control the flow and handle special cases properly.\n",
        "\n",
        "---"
      ],
      "metadata": {
        "id": "24HVFzgmNNcZ"
      }
    },
    {
      "cell_type": "markdown",
      "source": [
        "25.Why is it important to use multithreading in certain applications?\n",
        "- Multithreading is important in some applications because it lets me run multiple tasks at the same time within one program. This is useful when tasks wait a lot, like downloading files or handling user input, because it keeps the program responsive and faster. Without multithreading, the program might freeze or slow down while waiting.\n",
        "\n",
        "---"
      ],
      "metadata": {
        "id": "ygvRL8ANNZE9"
      }
    },
    {
      "cell_type": "markdown",
      "source": [
        "# practical question"
      ],
      "metadata": {
        "id": "41fuuty4Nmhg"
      }
    },
    {
      "cell_type": "code",
      "source": [
        "'''\n",
        "1.How can you open a file for writing in Python and write a string to it?\n",
        "'''\n",
        "file = open('filename.txt', 'w')\n",
        "file.write(\"This is my text.\")\n",
        "file.close()\n"
      ],
      "metadata": {
        "id": "Xz253QUoHRZo"
      },
      "execution_count": 5,
      "outputs": []
    },
    {
      "cell_type": "code",
      "execution_count": 6,
      "metadata": {
        "colab": {
          "base_uri": "https://localhost:8080/"
        },
        "id": "X5H7rCZdEycA",
        "outputId": "d22dd078-e01f-4361-de21-99aca39719ad"
      },
      "outputs": [
        {
          "output_type": "stream",
          "name": "stdout",
          "text": [
            "This is my text."
          ]
        }
      ],
      "source": [
        "'''\n",
        "2.Write a Python program to read the contents of a file and print each line?\n",
        "'''\n",
        "with open('filename.txt', 'r') as file:\n",
        "    for line in file:\n",
        "        print(line, end='')\n",
        "\n",
        "\n"
      ]
    },
    {
      "cell_type": "code",
      "source": [
        "'''\n",
        "3.How would you handle a case where the file doesn't exist while trying to open it for reading?\n",
        "'''\n",
        "try:\n",
        "    with open('filename.txt', 'r') as file:\n",
        "        content = file.read()\n",
        "        print(content)\n",
        "except FileNotFoundError:\n",
        "    print(\"The file does not exist.\")\n",
        "\n"
      ],
      "metadata": {
        "colab": {
          "base_uri": "https://localhost:8080/"
        },
        "id": "9R914KXNO96f",
        "outputId": "098916b2-6d1d-4d7e-9c98-982168cad8af"
      },
      "execution_count": 7,
      "outputs": [
        {
          "output_type": "stream",
          "name": "stdout",
          "text": [
            "This is my text.\n"
          ]
        }
      ]
    },
    {
      "cell_type": "code",
      "source": [
        "'''\n",
        "4.Write a Python script that reads from one file and writes its content to another file.\n",
        "'''\n",
        "with open('source.txt', 'r') as source_file:\n",
        "    content = source_file.read()\n",
        "\n",
        "with open('destination.txt', 'w') as dest_file:\n",
        "    dest_file.write(content)\n"
      ],
      "metadata": {
        "id": "UBsM4s6sPcmf"
      },
      "execution_count": 9,
      "outputs": []
    },
    {
      "cell_type": "code",
      "source": [
        "'''\n",
        "5.How would you catch and handle division by zero error in Python?\n",
        "'''\n",
        "try:\n",
        "    result = 10 / 0\n",
        "except ZeroDivisionError:\n",
        "    print(\"Cannot divide by zero!\")\n",
        "\n"
      ],
      "metadata": {
        "colab": {
          "base_uri": "https://localhost:8080/"
        },
        "id": "dT9oshHCPvJI",
        "outputId": "2a48ea32-4d99-417b-8e7f-d92ca3e983cf"
      },
      "execution_count": 10,
      "outputs": [
        {
          "output_type": "stream",
          "name": "stdout",
          "text": [
            "Cannot divide by zero!\n"
          ]
        }
      ]
    },
    {
      "cell_type": "code",
      "source": [
        "'''\n",
        "6.Write a Python program that logs an error message to a log file when a division by zero exception occurs?\n",
        "'''\n",
        "import logging\n",
        "\n",
        "logging.basicConfig(filename='error.log', level=logging.ERROR)\n",
        "\n",
        "try:\n",
        "    result = 10 / 0\n",
        "except ZeroDivisionError as e:\n",
        "    logging.error(\"Division by zero error occurred: %s\", e)\n"
      ],
      "metadata": {
        "colab": {
          "base_uri": "https://localhost:8080/"
        },
        "id": "2TZWCAcuQVxx",
        "outputId": "3d7612a9-0a18-4187-efe4-ead8d89e73d7"
      },
      "execution_count": 13,
      "outputs": [
        {
          "output_type": "stream",
          "name": "stderr",
          "text": [
            "ERROR:root:Division by zero error occurred: division by zero\n"
          ]
        }
      ]
    },
    {
      "cell_type": "code",
      "source": [
        "'''\n",
        "7.How do you log information at different levels (INFO, ERROR, WARNING) in Python using the logging module?\n",
        "'''\n",
        "import logging\n",
        "\n",
        "logging.basicConfig(level=logging.DEBUG)\n",
        "\n",
        "logging.info(\"This is an info message.\")\n",
        "logging.warning(\"This is a warning message.\")\n",
        "logging.error(\"This is an error message.\")\n"
      ],
      "metadata": {
        "colab": {
          "base_uri": "https://localhost:8080/"
        },
        "id": "clPPqp2iQeZ5",
        "outputId": "0050cf49-4ba5-4283-a3cf-d4d7be804363"
      },
      "execution_count": 14,
      "outputs": [
        {
          "output_type": "stream",
          "name": "stderr",
          "text": [
            "WARNING:root:This is a warning message.\n",
            "ERROR:root:This is an error message.\n"
          ]
        }
      ]
    },
    {
      "cell_type": "code",
      "source": [
        "'''\n",
        "8.Write a program to handle a file opening error using exception handling?\n",
        "'''\n",
        "try:\n",
        "    with open('myfile.txt', 'r') as file:\n",
        "        content = file.read()\n",
        "        print(content)\n",
        "except FileNotFoundError:\n",
        "    print(\"Error: The file does not exist.\")\n"
      ],
      "metadata": {
        "colab": {
          "base_uri": "https://localhost:8080/"
        },
        "id": "8MuPrm2OQgKm",
        "outputId": "c056fb2a-b4a3-412b-8912-fab415d05231"
      },
      "execution_count": 36,
      "outputs": [
        {
          "output_type": "stream",
          "name": "stdout",
          "text": [
            "\n"
          ]
        }
      ]
    },
    {
      "cell_type": "code",
      "source": [
        "'''\n",
        "9. How can you read a file line by line and store its content in a list in Python?\n",
        "'''\n",
        "lines = []\n",
        "with open('filename.txt', 'r') as file:\n",
        "    for line in file:\n",
        "        lines.append(line.rstrip('\\n'))\n"
      ],
      "metadata": {
        "id": "ma_wGPw_QgHO"
      },
      "execution_count": 37,
      "outputs": []
    },
    {
      "cell_type": "code",
      "source": [
        "'''\n",
        "10.How can you append data to an existing file in Python?\n",
        "'''\n",
        "with open('filename.txt', 'a') as file:\n",
        "    file.write(\"This is the new data to append.\\n\")\n",
        "\n"
      ],
      "metadata": {
        "id": "aPbxsj-XQgFA"
      },
      "execution_count": 17,
      "outputs": []
    },
    {
      "cell_type": "code",
      "source": [
        "'''\n",
        "11.Write a Python program that uses a try-except block to handle an error when attempting to access a\n",
        "dictionary key that doesn't exist?\n",
        "'''\n",
        "my_dict = {'a': 1, 'b': 2}\n",
        "\n",
        "try:\n",
        "    value = my_dict['c']\n",
        "except KeyError:\n",
        "    print(\"Key does not exist in the dictionary.\")\n"
      ],
      "metadata": {
        "colab": {
          "base_uri": "https://localhost:8080/"
        },
        "id": "k4PVx_xGQf_3",
        "outputId": "26096be7-35fa-4f48-9058-667aa822e4d9"
      },
      "execution_count": 18,
      "outputs": [
        {
          "output_type": "stream",
          "name": "stdout",
          "text": [
            "Key does not exist in the dictionary.\n"
          ]
        }
      ]
    },
    {
      "cell_type": "code",
      "source": [
        "'''\n",
        "12.Write a program that demonstrates using multiple except blocks to handle different types of exceptions?\n",
        "'''\n",
        "try:\n",
        "    x = int(input(\"Enter a number: \"))\n",
        "    result = 10 / x\n",
        "except ValueError:\n",
        "    print(\"That was not a valid number.\")\n",
        "except ZeroDivisionError:\n",
        "    print(\"You can't divide by zero.\")\n",
        "\n"
      ],
      "metadata": {
        "colab": {
          "base_uri": "https://localhost:8080/"
        },
        "id": "Y23TMZ1AQf9u",
        "outputId": "7c89b14a-8de3-434e-8ce9-fca7ad190a7b"
      },
      "execution_count": 20,
      "outputs": [
        {
          "name": "stdout",
          "output_type": "stream",
          "text": [
            "Enter a number: 35\n"
          ]
        }
      ]
    },
    {
      "cell_type": "code",
      "source": [
        "'''\n",
        "13.How would you check if a file exists before attempting to read it in Python?\n",
        "'''\n",
        "import os\n",
        "\n",
        "if os.path.exists('filename.txt'):\n",
        "    with open('filename.txt', 'r') as file:\n",
        "        content = file.read()\n",
        "        print(content)\n",
        "else:\n",
        "    print(\"File does not exist.\")\n"
      ],
      "metadata": {
        "colab": {
          "base_uri": "https://localhost:8080/"
        },
        "id": "bR2tC2lxQfuo",
        "outputId": "bb2b6168-ef2d-43a4-d1ab-82e451ba31ec"
      },
      "execution_count": 21,
      "outputs": [
        {
          "output_type": "stream",
          "name": "stdout",
          "text": [
            "This is my text.This is the new data to append.\n",
            "\n"
          ]
        }
      ]
    },
    {
      "cell_type": "code",
      "source": [
        "'''\n",
        "14.Write a program that uses the logging module to log both informational and error messages.\n",
        "'''\n",
        "import logging\n",
        "\n",
        "logging.basicConfig(filename='app.log', level=logging.DEBUG)\n",
        "\n",
        "logging.info(\"This is an informational message.\")\n",
        "logging.error(\"This is an error message.\")\n"
      ],
      "metadata": {
        "colab": {
          "base_uri": "https://localhost:8080/"
        },
        "id": "R3_5WbErRr5P",
        "outputId": "a465f805-cfb6-4d3a-968a-e191cac593d6"
      },
      "execution_count": 22,
      "outputs": [
        {
          "output_type": "stream",
          "name": "stderr",
          "text": [
            "ERROR:root:This is an error message.\n"
          ]
        }
      ]
    },
    {
      "cell_type": "code",
      "source": [
        "'''\n",
        "15.Write a Python program that prints the content of a file and handles the case when the file is empty?\n",
        "'''\n",
        "try:\n",
        "    with open('filename.txt', 'r') as file:\n",
        "        content = file.read()\n",
        "        if content:\n",
        "            print(content)\n",
        "        else:\n",
        "            print(\"The file is empty.\")\n",
        "except FileNotFoundError:\n",
        "    print(\"The file does not exist.\")\n"
      ],
      "metadata": {
        "colab": {
          "base_uri": "https://localhost:8080/"
        },
        "id": "6xCgBbHoRr07",
        "outputId": "712b231f-b906-4cd2-a333-7718299e1fd2"
      },
      "execution_count": 23,
      "outputs": [
        {
          "output_type": "stream",
          "name": "stdout",
          "text": [
            "This is my text.This is the new data to append.\n",
            "\n"
          ]
        }
      ]
    },
    {
      "cell_type": "code",
      "source": [
        "'''\n",
        "16.Demonstrate how to use memory profiling to check the memory usage of a small program?\n",
        "'''\n",
        "from memory_profiler import memory_usage\n",
        "\n",
        "def my_function():\n",
        "    data = [i ** 2 for i in range(10000)]\n",
        "    return data\n",
        "\n",
        "mem_usage = memory_usage(my_function)\n",
        "print(\"Memory used: %.2f MiB\" % (max(mem_usage) - min(mem_usage)))\n",
        "\n"
      ],
      "metadata": {
        "colab": {
          "base_uri": "https://localhost:8080/"
        },
        "id": "yeVJ9vnpRryg",
        "outputId": "118cc974-2c29-4ecc-93ff-d2a2b8856ffe"
      },
      "execution_count": 26,
      "outputs": [
        {
          "output_type": "stream",
          "name": "stdout",
          "text": [
            "Memory used: 0.00 MiB\n"
          ]
        }
      ]
    },
    {
      "cell_type": "code",
      "source": [
        "'''\n",
        "17.Write a Python program to create and write a list of numbers to a file, one number per line?\n",
        "'''\n",
        "numbers = [1, 2, 3, 4, 5]\n",
        "\n",
        "with open('numbers.txt', 'w') as file:\n",
        "    for number in numbers:\n",
        "        file.write(f\"{number}\\n\")\n",
        "\n"
      ],
      "metadata": {
        "id": "UznnJ7p1Rrso"
      },
      "execution_count": 27,
      "outputs": []
    },
    {
      "cell_type": "code",
      "source": [
        "'''\n",
        "18.How would you implement a basic logging setup that logs to a file with rotation after 1MB?\n",
        "'''\n",
        "import logging\n",
        "from logging.handlers import RotatingFileHandler\n",
        "\n",
        "logger = logging.getLogger('my_logger')\n",
        "logger.setLevel(logging.DEBUG)\n",
        "\n",
        "handler = RotatingFileHandler('app.log', maxBytes=1024*1024, backupCount=3)\n",
        "formatter = logging.Formatter('%(asctime)s - %(levelname)s - %(message)s')\n",
        "handler.setFormatter(formatter)\n",
        "\n",
        "logger.addHandler(handler)\n",
        "\n",
        "logger.info(\"This is an info message.\")\n",
        "logger.error(\"This is an error message.\")\n"
      ],
      "metadata": {
        "colab": {
          "base_uri": "https://localhost:8080/"
        },
        "id": "O0xhDZicRrbA",
        "outputId": "6ad9dfba-0802-4bfb-cb2b-efb4b87e8017"
      },
      "execution_count": 28,
      "outputs": [
        {
          "output_type": "stream",
          "name": "stderr",
          "text": [
            "INFO:my_logger:This is an info message.\n",
            "ERROR:my_logger:This is an error message.\n"
          ]
        }
      ]
    },
    {
      "cell_type": "code",
      "source": [
        "'''\n",
        "19.Write a program that handles both IndexError and KeyError using a try-except block?\n",
        "'''\n",
        "my_list = [1, 2, 3]\n",
        "my_dict = {'a': 10, 'b': 20}\n",
        "\n",
        "try:\n",
        "    print(my_list[5])\n",
        "    print(my_dict['z'])\n",
        "except IndexError:\n",
        "    print(\"IndexError: List index out of range.\")\n",
        "except KeyError:\n",
        "    print(\"KeyError: Key not found in dictionary.\")\n"
      ],
      "metadata": {
        "colab": {
          "base_uri": "https://localhost:8080/"
        },
        "id": "tqBCi3SRR3L_",
        "outputId": "5cb92763-e403-4805-9d6f-9315233333ed"
      },
      "execution_count": 29,
      "outputs": [
        {
          "output_type": "stream",
          "name": "stdout",
          "text": [
            "IndexError: List index out of range.\n"
          ]
        }
      ]
    },
    {
      "cell_type": "code",
      "source": [
        "'''\n",
        "20. How would you open a file and read its contents using a context manager in Python?\n",
        "'''\n",
        "with open('filename.txt', 'r') as file:\n",
        "    content = file.read()\n",
        "    print(content)\n"
      ],
      "metadata": {
        "colab": {
          "base_uri": "https://localhost:8080/"
        },
        "id": "cdYCTTF6R2_P",
        "outputId": "f7508d6a-b139-48ef-a193-08ca6956d080"
      },
      "execution_count": 30,
      "outputs": [
        {
          "output_type": "stream",
          "name": "stdout",
          "text": [
            "This is my text.This is the new data to append.\n",
            "\n"
          ]
        }
      ]
    },
    {
      "cell_type": "code",
      "source": [
        "'''\n",
        "21.Write a Python program that reads a file and prints the number of occurrences of a specific word?\n",
        "'''\n",
        "word_to_count = 'python'\n",
        "count = 0\n",
        "\n",
        "with open('filename.txt', 'r') as file:\n",
        "    for line in file:\n",
        "        count += line.lower().split().count(word_to_count.lower())\n",
        "\n",
        "print(f\"The word '{word_to_count}' occurred {count} times.\")\n"
      ],
      "metadata": {
        "colab": {
          "base_uri": "https://localhost:8080/"
        },
        "id": "IjtaSgo3U8Uw",
        "outputId": "f53190fc-a961-4ad6-878a-470ab2921b65"
      },
      "execution_count": 31,
      "outputs": [
        {
          "output_type": "stream",
          "name": "stdout",
          "text": [
            "The word 'python' occurred 0 times.\n"
          ]
        }
      ]
    },
    {
      "cell_type": "code",
      "source": [
        "'''\n",
        "22.How can you check if a file is empty before attempting to read its contents?\n",
        "'''\n",
        "import os\n",
        "\n",
        "if os.path.exists('filename.txt') and os.path.getsize('filename.txt') > 0:\n",
        "    with open('filename.txt', 'r') as file:\n",
        "        content = file.read()\n",
        "        print(content)\n",
        "else:\n",
        "    print(\"The file is empty or does not exist.\")\n"
      ],
      "metadata": {
        "colab": {
          "base_uri": "https://localhost:8080/"
        },
        "id": "s_cj8aUOVATR",
        "outputId": "840aa57c-b66c-42ba-a863-99b99521a79b"
      },
      "execution_count": 32,
      "outputs": [
        {
          "output_type": "stream",
          "name": "stdout",
          "text": [
            "This is my text.This is the new data to append.\n",
            "\n"
          ]
        }
      ]
    },
    {
      "cell_type": "code",
      "source": [
        "'''\n",
        "23.Write a Python program that writes to a log file when an error occurs during file handling.\n",
        "'''\n",
        "import logging\n",
        "\n",
        "logging.basicConfig(filename='file_errors.log', level=logging.ERROR,\n",
        "                    format='%(asctime)s - %(levelname)s - %(message)s')\n",
        "\n",
        "try:\n",
        "    with open('nonexistent_file.txt', 'r') as file:\n",
        "        content = file.read()\n",
        "except Exception as e:\n",
        "    logging.error(\"Error occurred while handling the file: %s\", e)\n"
      ],
      "metadata": {
        "id": "c0bdk7XBVDcs"
      },
      "execution_count": 34,
      "outputs": []
    }
  ]
}